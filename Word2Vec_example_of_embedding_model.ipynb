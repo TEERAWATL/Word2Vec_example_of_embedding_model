{
  "nbformat": 4,
  "nbformat_minor": 0,
  "metadata": {
    "colab": {
      "provenance": [],
      "toc_visible": true,
      "authorship_tag": "ABX9TyOe1PRZD21dDHYUDRRZLghd",
      "include_colab_link": true
    },
    "kernelspec": {
      "name": "python3",
      "display_name": "Python 3"
    },
    "language_info": {
      "name": "python"
    }
  },
  "cells": [
    {
      "cell_type": "markdown",
      "metadata": {
        "id": "view-in-github",
        "colab_type": "text"
      },
      "source": [
        "<a href=\"https://colab.research.google.com/github/TEERAWATL/Word2Vec_example_of_embedding_model/blob/main/Word2Vec_example_of_embedding_model.ipynb\" target=\"_parent\"><img src=\"https://colab.research.google.com/assets/colab-badge.svg\" alt=\"Open In Colab\"/></a>"
      ]
    },
    {
      "cell_type": "code",
      "execution_count": null,
      "metadata": {
        "colab": {
          "base_uri": "https://localhost:8080/"
        },
        "id": "qY26_Tf1HUBN",
        "outputId": "3c0d4273-f832-4f83-abda-033589ae1cf8"
      },
      "outputs": [
        {
          "output_type": "stream",
          "name": "stdout",
          "text": [
            "Looking in indexes: https://pypi.org/simple, https://us-python.pkg.dev/colab-wheels/public/simple/\n",
            "Requirement already satisfied: nltk in /usr/local/lib/python3.10/dist-packages (3.8.1)\n",
            "Requirement already satisfied: gensim in /usr/local/lib/python3.10/dist-packages (4.3.1)\n",
            "Requirement already satisfied: click in /usr/local/lib/python3.10/dist-packages (from nltk) (8.1.3)\n",
            "Requirement already satisfied: joblib in /usr/local/lib/python3.10/dist-packages (from nltk) (1.2.0)\n",
            "Requirement already satisfied: regex>=2021.8.3 in /usr/local/lib/python3.10/dist-packages (from nltk) (2022.10.31)\n",
            "Requirement already satisfied: tqdm in /usr/local/lib/python3.10/dist-packages (from nltk) (4.65.0)\n",
            "Requirement already satisfied: numpy>=1.18.5 in /usr/local/lib/python3.10/dist-packages (from gensim) (1.22.4)\n",
            "Requirement already satisfied: scipy>=1.7.0 in /usr/local/lib/python3.10/dist-packages (from gensim) (1.10.1)\n",
            "Requirement already satisfied: smart-open>=1.8.1 in /usr/local/lib/python3.10/dist-packages (from gensim) (6.3.0)\n"
          ]
        }
      ],
      "source": [
        "!pip install nltk gensim"
      ]
    },
    {
      "cell_type": "code",
      "source": [
        "import nltk\n",
        "from gensim.models import Word2Vec\n",
        "from nltk.corpus import brown, movie_reviews, treebank\n",
        "\n",
        "nltk.download('brown')\n",
        "nltk.download('movie_reviews')\n",
        "nltk.download('treebank')\n",
        "nltk.download('punkt')\n",
        "\n",
        "# Build corpus data\n",
        "b = brown.sents()\n",
        "m = movie_reviews.sents()\n",
        "t = treebank.sents()\n",
        "corp = b + m + t\n",
        "\n",
        "# Train the Word2Vec model\n",
        "model = Word2Vec(corp, vector_size=100, window=5, min_count=1, workers=4)\n",
        "\n",
        "# Save the model\n",
        "model.save(\"word2vec.model\")\n",
        "\n",
        "# Load the model\n",
        "model = Word2Vec.load(\"word2vec.model\")\n",
        "\n",
        "# Using the model\n",
        "vector = model.wv['computer']  # get vector for word\n",
        "similar_words = model.wv.most_similar('computer')  # get most similar words"
      ],
      "metadata": {
        "colab": {
          "base_uri": "https://localhost:8080/"
        },
        "id": "kXtDJEXsH-MS",
        "outputId": "4d467035-5c66-4a50-83d8-05e3ddd82349"
      },
      "execution_count": 3,
      "outputs": [
        {
          "output_type": "stream",
          "name": "stderr",
          "text": [
            "[nltk_data] Downloading package brown to /root/nltk_data...\n",
            "[nltk_data]   Package brown is already up-to-date!\n",
            "[nltk_data] Downloading package movie_reviews to /root/nltk_data...\n",
            "[nltk_data]   Package movie_reviews is already up-to-date!\n",
            "[nltk_data] Downloading package treebank to /root/nltk_data...\n",
            "[nltk_data]   Package treebank is already up-to-date!\n",
            "[nltk_data] Downloading package punkt to /root/nltk_data...\n",
            "[nltk_data]   Unzipping tokenizers/punkt.zip.\n"
          ]
        }
      ]
    },
    {
      "cell_type": "code",
      "source": [
        "print(vector)"
      ],
      "metadata": {
        "colab": {
          "base_uri": "https://localhost:8080/"
        },
        "id": "qxSF0IK9Isc-",
        "outputId": "9d32ed6d-361a-4a3e-d639-45adc18baa22"
      },
      "execution_count": 4,
      "outputs": [
        {
          "output_type": "stream",
          "name": "stdout",
          "text": [
            "[-0.11458303  0.34567565  0.69659394  0.26853773  0.20470127 -0.45128584\n",
            "  0.8197619   0.804136    0.22755931 -0.661424    0.23086724  0.12968944\n",
            "  0.19526589 -0.7661396  -0.7561424  -0.4468201   0.6746337  -0.32015818\n",
            "  0.29072547 -0.24302666  0.0400756   0.30977553  0.2091677  -0.30201617\n",
            "  0.08071946 -0.07858819 -0.32086164  0.10211302 -0.178212   -0.4941479\n",
            "  0.33423805 -0.46637022 -0.75678796 -0.5727074   0.1662844   0.46875992\n",
            " -0.79336226 -1.0132309   0.39462647 -0.16064198 -0.17092991  0.30294883\n",
            "  0.6273699  -0.6631637   0.2151566  -0.06001414 -0.2310904   0.2167762\n",
            " -0.08139692 -0.17250262 -0.26748085  0.14599161 -0.58143634 -0.271198\n",
            " -0.09645681  0.14621605  0.6249169  -0.13795519 -0.20268178  0.41604096\n",
            " -0.6100879  -0.2584852   0.61880577  0.3212904  -0.84184945  0.14279555\n",
            " -0.04259328 -0.03689296 -0.6436601   0.37640488  0.4690581   0.16950531\n",
            "  0.5562347  -0.04729612  0.82220966 -0.38837093 -0.18771882 -0.8633403\n",
            " -0.990751    0.7458749  -0.72884387  0.9377063   0.806551    0.9659327\n",
            "  0.2218898  -0.19908993  0.6853536   1.3850529  -0.68964595  0.32366437\n",
            "  0.06014542  0.6314255   0.37828705 -0.01690423  0.83427423  0.4252831\n",
            " -1.3212407  -0.00460129  0.20938161  0.69345236]\n"
          ]
        }
      ]
    },
    {
      "cell_type": "code",
      "source": [
        "# Find the most similar words to \"computer\"\n",
        "similar_words = model.wv.most_similar('computer')\n",
        "print(\"Words similar to 'computer':\", similar_words)\n",
        "\n"
      ],
      "metadata": {
        "colab": {
          "base_uri": "https://localhost:8080/"
        },
        "id": "yeEyfi9nI92P",
        "outputId": "c3b03c1e-c206-4a79-b350-8220bb70a27f"
      },
      "execution_count": 5,
      "outputs": [
        {
          "output_type": "stream",
          "name": "stdout",
          "text": [
            "Words similar to 'computer': [('generated', 0.8704439401626587), ('digital', 0.8174700736999512), ('sub', 0.8133335113525391), ('animation', 0.7628021836280823), ('non', 0.7595539689064026), ('existent', 0.7575383186340332), ('laden', 0.756416916847229), ('fi', 0.7500448822975159), ('arts', 0.7435109615325928), ('imagery', 0.7389124631881714)]\n"
          ]
        }
      ]
    },
    {
      "cell_type": "code",
      "source": [
        "\n",
        "# Find the similarity between two words\n",
        "similarity = model.wv.similarity('woman', 'man')\n",
        "print(\"\\nSimilarity between 'woman' and 'man':\", similarity)\n"
      ],
      "metadata": {
        "colab": {
          "base_uri": "https://localhost:8080/"
        },
        "id": "k1QGAzgRJIwo",
        "outputId": "614581f9-3d94-4c20-8d64-b1923ce321a1"
      },
      "execution_count": 11,
      "outputs": [
        {
          "output_type": "stream",
          "name": "stdout",
          "text": [
            "\n",
            "Similarity between 'woman' and 'man': 0.91037196\n"
          ]
        }
      ]
    },
    {
      "cell_type": "code",
      "source": [
        "# Perform a word analogy: King is to Man as What is to Woman?\n",
        "result = model.wv.most_similar(positive=['woman', 'king'], negative=['man'])\n",
        "print(\"\\nKing is to Man as What is to Woman?:\", result)"
      ],
      "metadata": {
        "colab": {
          "base_uri": "https://localhost:8080/"
        },
        "id": "MFdWa-FgLAlZ",
        "outputId": "4b904992-cba4-4dcc-bd55-c74d43415fa0"
      },
      "execution_count": 12,
      "outputs": [
        {
          "output_type": "stream",
          "name": "stdout",
          "text": [
            "\n",
            "King is to Man as What is to Woman?: [('queen', 0.8563963770866394), ('proval', 0.8492258191108704), ('ben', 0.8489810228347778), ('robin', 0.8465399742126465), ('paul', 0.8457308411598206), ('jason', 0.8434945344924927), ('jamie', 0.8430044651031494), ('campbell', 0.8424144387245178), ('joan', 0.8403554558753967), ('tom', 0.8388897776603699)]\n"
          ]
        }
      ]
    }
  ]
}